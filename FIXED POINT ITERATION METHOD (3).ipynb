{
 "cells": [
  {
   "cell_type": "markdown",
   "id": "ce08c251",
   "metadata": {},
   "source": [
    "FIXED POINT ITERATION"
   ]
  },
  {
   "cell_type": "code",
   "execution_count": 2,
   "id": "246b0629",
   "metadata": {},
   "outputs": [],
   "source": [
    "def fixed_point_iteration(f, a, b, tolerance = 1e-6, max_iterations = 100):\n",
    "    x0 = (a+b)/2\n",
    "    for i in range(max_iterations):\n",
    "        x1 = g(x0)\n",
    "        if abs(x1 - x0) < tolerance:\n",
    "            print(f\"Root found at x = {x1:.6f}\")\n",
    "            print(f\"Number of iterations: {i + 1}\")\n",
    "            return x1\n",
    "        else:\n",
    "            x0 = x1\n",
    "            "
   ]
  },
  {
   "cell_type": "markdown",
   "id": "bb76be7f",
   "metadata": {},
   "source": [
    "eg 1"
   ]
  },
  {
   "cell_type": "code",
   "execution_count": 6,
   "id": "5c8c5ac4",
   "metadata": {},
   "outputs": [
    {
     "name": "stdout",
     "output_type": "stream",
     "text": [
      "Root found at x = 1.324718\n",
      "Number of iterations: 9\n"
     ]
    },
    {
     "data": {
      "text/plain": [
       "1.324718011988197"
      ]
     },
     "execution_count": 6,
     "metadata": {},
     "output_type": "execute_result"
    }
   ],
   "source": [
    "import math\n",
    "\n",
    "#defining the function\n",
    "def f(x):\n",
    "    return x**3 - x - 1\n",
    "\n",
    "#defining g(x) which is got by making x the root of the equation\n",
    "def g(x):\n",
    "    return math.pow(x+1, 1/3)\n",
    "\n",
    "fixed_point_iteration(f, 1, 2)\n"
   ]
  },
  {
   "cell_type": "markdown",
   "id": "457e16c5",
   "metadata": {},
   "source": [
    "eg 2"
   ]
  },
  {
   "cell_type": "code",
   "execution_count": 5,
   "id": "5292ab70",
   "metadata": {},
   "outputs": [
    {
     "name": "stdout",
     "output_type": "stream",
     "text": [
      "Root found at x = 2.094552\n",
      "Number of iterations: 8\n",
      "Root found at 2.094551593017466\n"
     ]
    }
   ],
   "source": [
    "\n",
    "def f(x):\n",
    "    return  x**3-2*x-5\n",
    "\n",
    "def g(x):\n",
    "    return math.pow(2*x+5, 1/3)\n",
    "\n",
    "print(f\"Root found at {fixed_point_iteration(f, 2, 3)}\")\n"
   ]
  },
  {
   "cell_type": "markdown",
   "id": "21e17a46",
   "metadata": {},
   "source": [
    "eg 3"
   ]
  },
  {
   "cell_type": "code",
   "execution_count": 14,
   "id": "a0395a22",
   "metadata": {},
   "outputs": [
    {
     "name": "stdout",
     "output_type": "stream",
     "text": [
      "Root found at x = 2.754623\n",
      "Number of iterations: 24\n",
      "Root found at 2.7546225791410257\n"
     ]
    }
   ],
   "source": [
    "\n",
    "def f(x):\n",
    "    return  x**4-2*x**3-5*x-2\n",
    "\n",
    "def g(x):\n",
    "    return math.pow(2*x**3+5*x+2, 1/4)\n",
    "\n",
    "print(f\"Root found at {fixed_point_iteration(f, 2, 3)}\")\n"
   ]
  },
  {
   "cell_type": "code",
   "execution_count": null,
   "id": "a4e1196f",
   "metadata": {},
   "outputs": [],
   "source": []
  },
  {
   "cell_type": "code",
   "execution_count": null,
   "id": "4a2af0e3",
   "metadata": {},
   "outputs": [],
   "source": []
  }
 ],
 "metadata": {
  "kernelspec": {
   "display_name": "Python 3 (ipykernel)",
   "language": "python",
   "name": "python3"
  },
  "language_info": {
   "codemirror_mode": {
    "name": "ipython",
    "version": 3
   },
   "file_extension": ".py",
   "mimetype": "text/x-python",
   "name": "python",
   "nbconvert_exporter": "python",
   "pygments_lexer": "ipython3",
   "version": "3.9.7"
  }
 },
 "nbformat": 4,
 "nbformat_minor": 5
}
